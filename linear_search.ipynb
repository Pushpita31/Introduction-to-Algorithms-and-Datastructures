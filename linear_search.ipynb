{
 "cells": [
  {
   "cell_type": "code",
   "execution_count": 21,
   "id": "5554aac7",
   "metadata": {},
   "outputs": [
    {
     "name": "stdout",
     "output_type": "stream",
     "text": [
      "Target not found at index\n"
     ]
    }
   ],
   "source": [
    "def linear_search(list, target):\n",
    "    \"\"\"return the index position of the tareget if found, else return none. The linear search algorith is a sequential algorithm that compares each item in the list the target is found, for loop to iterate sequentially\"\"\"\n",
    "    for i in range(0, len(list)):\n",
    "        if list[i]==target:\n",
    "            return i\n",
    "        return None\n",
    "        \"\"\"len(list) has it's own runtime. Python keeps track of the length of a list. Hence this function called len(list) is a constant time operation.We would have incurred a linear cost if this was a naive implementation meaning we wrote the implementation of the list and we iterate over this list everytime we call this length function.Now once we have a range of values that represent index position in this list we are goingto iterate over that using the for loop. Each inde value is assigned to the local variable i.Also a constant time operation\"\"\"\n",
    "        \"\"\"block of code return value completes execution in finite amount of time outputs same result for the same input set\"\"\"\n",
    "\n",
    "def verify(index):\n",
    "    if index is not None:\n",
    "        print (\"Target found at index :\", index)\n",
    "    else:\n",
    "        print (\"Target not found at index\")\n",
    "        \n",
    "numbers = [1,2,3,4,5,6,7,8,9,10]\n",
    "result = linear_search(numbers,12)\n",
    "verify(result)"
   ]
  },
  {
   "cell_type": "code",
   "execution_count": null,
   "id": "398f945a",
   "metadata": {},
   "outputs": [],
   "source": []
  }
 ],
 "metadata": {
  "kernelspec": {
   "display_name": "Python 3 (ipykernel)",
   "language": "python",
   "name": "python3"
  },
  "language_info": {
   "codemirror_mode": {
    "name": "ipython",
    "version": 3
   },
   "file_extension": ".py",
   "mimetype": "text/x-python",
   "name": "python",
   "nbconvert_exporter": "python",
   "pygments_lexer": "ipython3",
   "version": "3.10.0"
  }
 },
 "nbformat": 4,
 "nbformat_minor": 5
}
