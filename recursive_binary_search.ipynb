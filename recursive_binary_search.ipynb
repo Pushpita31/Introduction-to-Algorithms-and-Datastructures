{
 "cells": [
  {
   "cell_type": "code",
   "execution_count": null,
   "id": "0ebd2557",
   "metadata": {},
   "outputs": [],
   "source": [
    "def recursive_binary_search(list,target):\n",
    "    if len(list)==0;\n",
    "        return False"
   ]
  }
 ],
 "metadata": {
  "kernelspec": {
   "display_name": "Python 3 (ipykernel)",
   "language": "python",
   "name": "python3"
  },
  "language_info": {
   "codemirror_mode": {
    "name": "ipython",
    "version": 3
   },
   "file_extension": ".py",
   "mimetype": "text/x-python",
   "name": "python",
   "nbconvert_exporter": "python",
   "pygments_lexer": "ipython3",
   "version": "3.10.0"
  }
 },
 "nbformat": 4,
 "nbformat_minor": 5
}
