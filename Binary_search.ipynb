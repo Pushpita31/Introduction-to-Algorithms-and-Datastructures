{
 "cells": [
  {
   "cell_type": "code",
   "execution_count": 10,
   "id": "e8ebb3e6",
   "metadata": {},
   "outputs": [
    {
     "name": "stdout",
     "output_type": "stream",
     "text": [
      "Target not found at index\n",
      "Target found at index : 5\n"
     ]
    }
   ],
   "source": [
    "def binary_search(list,target): \n",
    "    \"\"\"Function named binary_search that takes list and target.\"\"\"\n",
    "    first = 0\n",
    "    last = len(list)-1\n",
    "    \"\"\"the above are constant time operation\"\"\"\n",
    "    while first<=last:\n",
    "        midpoint = (first+last)//2\n",
    "        \"\"\"constant time operation\"\"\"\n",
    "        \n",
    "        if list[midpoint]==target:\n",
    "            return midpoint\n",
    "        elif list[midpoint] < target:\n",
    "            first = midpoint + 1\n",
    "        else:\n",
    "            last= midpoint - 1\n",
    "            \"\"\"all constant time operation\"\"\"\n",
    "    return None\n",
    "    \"\"\"the while loop causes the runtime to grow and it becomes a logrithmic runtime\"\"\"\n",
    "    \n",
    "def verify(index):\n",
    "    if index is not None:\n",
    "        print (\"Target found at index :\", index)\n",
    "    else:\n",
    "        print (\"Target not found at index\")\n",
    "        \n",
    "numbers = [1,2,3,4,5,6,7,8,9,10]\n",
    "\"\"\"NOTE: the numbers list defined for our test cases has to be sorted\"\"\"\n",
    "result = binary_search(numbers,12)\n",
    "verify(result)\n",
    "\n",
    "result = binary_search(numbers,6)\n",
    "verify(result)"
   ]
  }
 ],
 "metadata": {
  "kernelspec": {
   "display_name": "Python 3 (ipykernel)",
   "language": "python",
   "name": "python3"
  },
  "language_info": {
   "codemirror_mode": {
    "name": "ipython",
    "version": 3
   },
   "file_extension": ".py",
   "mimetype": "text/x-python",
   "name": "python",
   "nbconvert_exporter": "python",
   "pygments_lexer": "ipython3",
   "version": "3.10.0"
  }
 },
 "nbformat": 4,
 "nbformat_minor": 5
}
